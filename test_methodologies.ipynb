{
 "cells": [
  {
   "cell_type": "code",
   "execution_count": null,
   "metadata": {},
   "outputs": [],
   "source": [
    "from pystac_client import Client\n",
    "from dask.distributed import Client as DaskClient\n",
    "from odc.stac import load, configure_s3_access\n",
    "import rasterio as rio\n",
    "import geopandas as gpd\n",
    "import pandas as pd\n",
    "import numpy as np\n",
    "import xarray as xr\n",
    "import folium\n",
    "from sklearn.ensemble import RandomForestClassifier\n",
    "import odc.geo.xr\n",
    "import rioxarray\n",
    "import matplotlib.pyplot as plt\n",
    "import rasterio.features\n",
    "from dea_tools.dask import create_local_dask_cluster"
   ]
  },
  {
   "cell_type": "code",
   "execution_count": null,
   "metadata": {},
   "outputs": [],
   "source": [
    "import os\n",
    "os.environ['REQUESTS_CA_BUNDLE'] = ''"
   ]
  },
  {
   "cell_type": "code",
   "execution_count": null,
   "metadata": {},
   "outputs": [],
   "source": [
    "# Create local dask cluster to improve data load time\n",
    "dask_client = create_local_dask_cluster(return_client=True)"
   ]
  },
  {
   "cell_type": "code",
   "execution_count": null,
   "metadata": {},
   "outputs": [],
   "source": [
    "catalog = \"https://stac.digitalearthpacific.org\"\n",
    "client = Client.open(catalog)"
   ]
  },
  {
   "cell_type": "code",
   "execution_count": null,
   "metadata": {},
   "outputs": [],
   "source": [
    "year=\"2020\"\n",
    "aoi = gpd.read_file(\"aoi_test_pg.geojson\")\n",
    "bbox = rasterio.features.bounds(aoi)"
   ]
  },
  {
   "cell_type": "code",
   "execution_count": null,
   "metadata": {},
   "outputs": [],
   "source": [
    "#aoi.explore()"
   ]
  },
  {
   "cell_type": "code",
   "execution_count": null,
   "metadata": {},
   "outputs": [],
   "source": [
    "\n",
    "items = list(client.search(collections=[\"dep_s2_geomad\"], datetime=year, bbox=bbox).items())"
   ]
  },
  {
   "cell_type": "code",
   "execution_count": null,
   "metadata": {},
   "outputs": [],
   "source": [
    "data = load(\n",
    "        items,\n",
    "        measurements=[\n",
    "            \"nir\", \"red\", \"blue\", \"green\",  \"green\",  \"swir16\", \n",
    "        ],\n",
    "        bbox=bbox,\n",
    "        resolution=10,\n",
    "        chunks={\"x\": 2048, \"y\": 2048},\n",
    "        groupby=\"solar_day\",\n",
    "    )"
   ]
  },
  {
   "cell_type": "code",
   "execution_count": null,
   "metadata": {},
   "outputs": [],
   "source": [
    "#scale\n",
    "data = (data.where(data != 0) * 0.0001).clip(0, 1)"
   ]
  },
  {
   "cell_type": "code",
   "execution_count": null,
   "metadata": {},
   "outputs": [],
   "source": [
    "data"
   ]
  },
  {
   "cell_type": "code",
   "execution_count": null,
   "metadata": {},
   "outputs": [],
   "source": [
    "#from dea_tools.plotting import rgb\n",
    "#rgb(data, bands=['red', 'green', 'blue'])"
   ]
  },
  {
   "cell_type": "markdown",
   "metadata": {},
   "source": [
    "### AMMI\n",
    "\n",
    "Automatic Mangrove Map and Index (AMMI)\n",
    "Suyarso (2022) developed a mangrove vegetation index that\n",
    "simultaneously extracts mangroves and computes canopy density\n",
    "precisely using optical satellite imagery, e.g., Sentinel-2 and\n",
    "Landsat-5, Landsat-7, and Landsat-8. The algorithm is the\n",
    "product of two equations. The first equation should separate the\n",
    "land and vegetation from water features. The second equation\n",
    "should map the extent of mangroves and display the canopy\n",
    "density. The proponent did not provide a threshold range but\n",
    "from his results, it was between 5 to 10."
   ]
  },
  {
   "cell_type": "code",
   "execution_count": null,
   "metadata": {},
   "outputs": [],
   "source": [
    "nir = data['nir']\n",
    "swir = data['swir16']\n",
    "red = data['red']\n",
    "#\n",
    "green = data['green']\n",
    "blue = data['blue']\n",
    "\n",
    "# Convert to float32 to avoid integer division\n",
    "nir = nir.astype(\"float32\")\n",
    "red = red.astype(\"float32\")\n",
    "swir1 = swir.astype(\"float32\")\n",
    "#\n",
    "\n",
    "#ammi = ((nir - red) / (red + swir)) * ((nir - swir) / (swir - 0.65 * red))\n",
    "\n",
    "# Prevent divide-by-zero by adding a tiny epsilon where denominators are zero\n",
    "eps = 1e-8\n",
    "denom1 = (red + swir1).where((red + swir1) != 0, eps)\n",
    "denom2 = (swir1 - 0.65 * red).where((swir1 - 0.65 * red) != 0, eps)\n",
    "ammi = ((nir - red) / denom1) * ((nir - swir1) / denom2)\n",
    "\n",
    "ammi = ammi.to_dataset(name='ammi')\n",
    "ammi"
   ]
  },
  {
   "cell_type": "code",
   "execution_count": null,
   "metadata": {},
   "outputs": [],
   "source": [
    "#Spatially, the AMMI captures the mangroves from sparse mangroves, \n",
    "#indicated by the low spectral sensitivity with an index of about 5, to dense mangroves (>20), \n",
    "#and the index below 5 is classified as nonmangrove\n",
    "#https://onlinelibrary.wiley.com/doi/10.1155/2022/8103242\n",
    "\n",
    "#AMMI_THRESHOLD = 4.0 - 20\n",
    "AMMI_THRESHOLD = range(4, 20)\n",
    "\n",
    "mangrove_mask = (ammi.ammi >= list(AMMI_THRESHOLD)[0])\n",
    "\n",
    "for i, val in enumerate(AMMI_THRESHOLD, 1):\n",
    "\t#print(f\"{i}: {val}\")\n",
    "    mangrove_mask = xr.where(ammi.ammi >= val, i, mangrove_mask)\n",
    "\n",
    "\n",
    "# Convert boolean mask to uint8 (0/1) and attach geospatial metadata for saving\n",
    "mangrove_mask = mangrove_mask.astype(\"uint8\")\n",
    "mangrove_mask = mangrove_mask.compute()\n",
    "\n",
    "#remove null\n",
    "mangrove_mask_sanitised = mangrove_mask.where(mangrove_mask != 0, drop=True)\n"
   ]
  },
  {
   "cell_type": "code",
   "execution_count": null,
   "metadata": {},
   "outputs": [],
   "source": [
    "#morphological clean up"
   ]
  },
  {
   "cell_type": "code",
   "execution_count": null,
   "metadata": {},
   "outputs": [],
   "source": [
    "mangrove_mask_sanitised.plot()\n",
    "#ammi.ammi.plot()"
   ]
  },
  {
   "cell_type": "markdown",
   "metadata": {},
   "source": [
    "### Enhanced Mangrove Index (EMI)"
   ]
  },
  {
   "cell_type": "code",
   "execution_count": null,
   "metadata": {},
   "outputs": [],
   "source": [
    "#Enhanced Mangrove Index (EMI)\n",
    "#emi = (nir - swir) / (green + nir)\n",
    "#emi = emi.to_dataset(name='emi')\n",
    "#emi"
   ]
  },
  {
   "cell_type": "code",
   "execution_count": null,
   "metadata": {},
   "outputs": [],
   "source": [
    "#emi.emi.plot()\n",
    "mangrove_mask_sanitised.spatial_ref"
   ]
  },
  {
   "cell_type": "markdown",
   "metadata": {},
   "source": [
    "### Visual Verification"
   ]
  },
  {
   "cell_type": "code",
   "execution_count": null,
   "metadata": {},
   "outputs": [],
   "source": [
    "gdf = gpd.read_parquet(\"gmw_v4_pacific_validation.parquet\")\n",
    "aoi = aoi.to_crs(3832)\n",
    "gdf = gdf.clip(aoi, keep_geom_type=False)\n",
    "gdf.COUNTRY.unique()"
   ]
  },
  {
   "cell_type": "code",
   "execution_count": null,
   "metadata": {},
   "outputs": [],
   "source": [
    "import folium\n",
    "#m = folium.Map(location=[float(aoi.centroid.y[0]), float(aoi.centroid.x[0])], zoom_start=12)\n",
    "aoi_1 = aoi.to_crs(4326)\n",
    "center_lat = aoi_1.centroid.y.mean()\n",
    "center_lon = aoi_1.centroid.x.mean()\n",
    "\n",
    "# Initialize the Folium map centered on the average centroid\n",
    "m = folium.Map(location=[center_lat, center_lon], zoom_start=10)"
   ]
  },
  {
   "cell_type": "code",
   "execution_count": null,
   "metadata": {},
   "outputs": [],
   "source": [
    "\n",
    "#gmw4-validation\n",
    "gdf.explore(m=m, name=\"GMWv4\")\n",
    "\n",
    "#rgb\n",
    "rgb_ds = data.odc.to_rgba(vmin=0, vmax=0.3, bands=(\"red\", \"green\", \"blue\"))\n",
    "rgb_ds.odc.add_to(m, name=\"GeoMAD True Color\")\n",
    "\n",
    "#mangrove\n",
    "mangrove_mask_sanitised.rio.write_crs(\"EPSG:3832\", inplace=True)\n",
    "mangrove_mask_1 = mangrove_mask_sanitised.rio.reproject(\"EPSG:4326\")\n",
    "mangrove_mask_sanitised.odc.add_to(m, cmap=\"viridis\", name=\"AMMI\")\n",
    "\n",
    "folium.LayerControl().add_to(m)\n",
    "m\n"
   ]
  },
  {
   "cell_type": "markdown",
   "metadata": {},
   "source": [
    "### Export"
   ]
  },
  {
   "cell_type": "code",
   "execution_count": null,
   "metadata": {},
   "outputs": [],
   "source": [
    "odc.geo.xr.write_cog(mangrove_mask_1, f\"output_{year}.tif\", overwrite=True)"
   ]
  },
  {
   "cell_type": "code",
   "execution_count": null,
   "metadata": {},
   "outputs": [],
   "source": []
  }
 ],
 "metadata": {
  "kernelspec": {
   "display_name": "Python 3 (ipykernel)",
   "language": "python",
   "name": "python3"
  },
  "language_info": {
   "codemirror_mode": {
    "name": "ipython",
    "version": 3
   },
   "file_extension": ".py",
   "mimetype": "text/x-python",
   "name": "python",
   "nbconvert_exporter": "python",
   "pygments_lexer": "ipython3",
   "version": "3.11.13"
  }
 },
 "nbformat": 4,
 "nbformat_minor": 4
}
