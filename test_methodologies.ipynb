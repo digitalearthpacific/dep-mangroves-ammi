{
 "cells": [
  {
   "cell_type": "code",
   "execution_count": null,
   "metadata": {},
   "outputs": [],
   "source": [
    "!pip -q install opencv-python==4.11.0.86"
   ]
  },
  {
   "cell_type": "code",
   "execution_count": null,
   "metadata": {},
   "outputs": [],
   "source": [
    "from pystac_client import Client\n",
    "import geopandas as gpd\n",
    "import xarray as xr\n",
    "import folium\n",
    "from odc.geo import Geometry\n",
    "from odc.stac import load\n",
    "from src import util"
   ]
  },
  {
   "cell_type": "code",
   "execution_count": null,
   "metadata": {},
   "outputs": [],
   "source": [
    "catalog = \"https://stac.digitalearthpacific.org\"\n",
    "client = Client.open(catalog)"
   ]
  },
  {
   "cell_type": "code",
   "execution_count": null,
   "metadata": {},
   "outputs": [],
   "source": [
    "year = \"2024\"\n",
    "aoi = Geometry(gpd.read_file(\"aoi/aoi_test_PG_1.geojson\").geometry[0], crs=\"EPSG:4326\")\n",
    "aoi.explore()"
   ]
  },
  {
   "cell_type": "code",
   "execution_count": null,
   "metadata": {},
   "outputs": [],
   "source": [
    "items = list(\n",
    "    client.search(collections=[\"dep_s2_geomad\"], datetime=year, intersects=aoi).items()\n",
    ")\n",
    "\n",
    "print(f\"Found {len(items)} items\")"
   ]
  },
  {
   "cell_type": "code",
   "execution_count": null,
   "metadata": {
    "scrolled": true
   },
   "outputs": [],
   "source": [
    "data = load(\n",
    "    items,\n",
    "    measurements=[\n",
    "        \"nir\",\n",
    "        \"red\",\n",
    "        \"blue\",\n",
    "        \"green\",\n",
    "        \"green\",\n",
    "        \"swir16\",\n",
    "    ],\n",
    "    intersects=aoi,\n",
    "    resolution=10,\n",
    "    chunks={\"x\": 2048, \"y\": 2048},\n",
    "    groupby=\"solar_day\",\n",
    ")\n",
    "\n",
    "data"
   ]
  },
  {
   "cell_type": "code",
   "execution_count": null,
   "metadata": {},
   "outputs": [],
   "source": [
    "# scale\n",
    "data = (data.where(data != 0) * 0.0001).clip(0.0001, 1)"
   ]
  },
  {
   "cell_type": "markdown",
   "metadata": {},
   "source": [
    "### AMMI\n",
    "\n",
    "Automatic Mangrove Map and Index (AMMI)\n",
    "Suyarso (2022) developed a mangrove vegetation index that\n",
    "simultaneously extracts mangroves and computes canopy density\n",
    "precisely using optical satellite imagery, e.g., Sentinel-2 and\n",
    "Landsat-5, Landsat-7, and Landsat-8. The algorithm is the\n",
    "product of two equations. The first equation should separate the\n",
    "land and vegetation from water features. The second equation\n",
    "should map the extent of mangroves and display the canopy\n",
    "density. The proponent did not provide a threshold range but\n",
    "from his results, it was between 5 to 10."
   ]
  },
  {
   "cell_type": "code",
   "execution_count": null,
   "metadata": {},
   "outputs": [],
   "source": [
    "nir = data[\"nir\"]\n",
    "swir = data[\"swir16\"]\n",
    "red = data[\"red\"]\n",
    "green = data[\"green\"]\n",
    "blue = data[\"blue\"]\n",
    "\n",
    "ammi = ((nir - red) / (red + swir)) * ((nir - swir) / (swir - 0.65 * red))\n",
    "\n",
    "ammi = ammi.to_dataset(name=\"ammi\")\n",
    "\n",
    "ammi"
   ]
  },
  {
   "cell_type": "markdown",
   "metadata": {},
   "source": [
    "Spatially, the AMMI captures the mangroves from sparse mangroves, indicated by the low spectral sensitivity with an index of about 5, to dense mangroves (>20), and the index below 5 is classified as nonmangrove.\n",
    "\n",
    "https://onlinelibrary.wiley.com/doi/10.1155/2022/8103242"
   ]
  },
  {
   "cell_type": "code",
   "execution_count": null,
   "metadata": {},
   "outputs": [],
   "source": [
    "\n",
    "# AMMI_THRESHOLD = 4.0 - 20\n",
    "AMMI_THRESHOLD = range(4, 20)\n",
    "\n",
    "mangrove_mask = ammi.ammi >= list(AMMI_THRESHOLD)[0]\n",
    "\n",
    "num_vals = len(AMMI_THRESHOLD)\n",
    "for i, val in enumerate(AMMI_THRESHOLD, 1):\n",
    "    # print(f\"{i}: {val}\")\n",
    "    density_percentage = 10 + (i - 1) * (90 / (num_vals - 1))\n",
    "    mangrove_mask = xr.where(ammi.ammi >= val, density_percentage, mangrove_mask)\n",
    "    \n",
    "\n",
    "# Convert boolean mask to uint8 (0/1) and attach geospatial metadata for saving\n",
    "mangrove_mask = mangrove_mask.astype(\"uint8\")\n",
    "mangrove_mask = mangrove_mask.compute()\n",
    "\n",
    "# remove null\n",
    "data[\"mangroves\"] = mangrove_mask.where(mangrove_mask != 0, drop=True)\n",
    "data[\"mangroves\"]"
   ]
  },
  {
   "cell_type": "markdown",
   "metadata": {},
   "source": [
    "### Apply Morphological Filter"
   ]
  },
  {
   "cell_type": "code",
   "execution_count": null,
   "metadata": {},
   "outputs": [],
   "source": [
    "CLOSING_KERNEL_SIZE = 2\n",
    "OPENING_KERNEL_SIZE = 5\n",
    "\n",
    "#data['mangroves'] = util.filter_mask(closing_kernel_size=CLOSING_KERNEL_SIZE, opening_kernel_size=OPENING_KERNEL_SIZE, mask=data['mangroves'])"
   ]
  },
  {
   "cell_type": "code",
   "execution_count": null,
   "metadata": {},
   "outputs": [],
   "source": [
    "data[\"mangroves\"].plot()"
   ]
  },
  {
   "cell_type": "markdown",
   "metadata": {},
   "source": [
    "### Visual Verification"
   ]
  },
  {
   "cell_type": "code",
   "execution_count": null,
   "metadata": {},
   "outputs": [],
   "source": [
    "gdf = gpd.read_parquet(\"gmw_v4_pacific_validation.parquet\")\n",
    "aoi = aoi.to_crs(3832)\n",
    "gdf = gdf.clip(aoi.geom, keep_geom_type=False)\n",
    "gdf.COUNTRY.unique()"
   ]
  },
  {
   "cell_type": "code",
   "execution_count": null,
   "metadata": {},
   "outputs": [],
   "source": [
    "# Compute the RGB into memory\n",
    "rgb_ds = data.odc.to_rgba(vmin=0, vmax=0.3, bands=(\"red\", \"green\", \"blue\")).compute()"
   ]
  },
  {
   "cell_type": "code",
   "execution_count": null,
   "metadata": {},
   "outputs": [],
   "source": [
    "# Initialize the Folium map centered on the average centroid\n",
    "x, y = aoi.centroid.to_crs(\"epsg:4326\").xy\n",
    "m = folium.Map(location=[float(y[0]), float(x[0])], zoom_start=10)\n",
    "\n",
    "# GMW for Validation\n",
    "# gdf.geometry.boundary.explore(m=m, color=\"red\", name=\"GMWv4\")\n",
    "gdf.explore(m=m, \n",
    "            name=\"GMWv4\",\n",
    "            style_kwds=dict(\n",
    "                fillOpacity=0.5,   # Sets the opacity of the fill color\n",
    "                opacity=1.0,       # Sets the opacity of the outline color\n",
    "                color=\"red\",       # Outline color\n",
    "                fillColor=\"green\") # Fill color\n",
    "            )\n",
    "\n",
    "# RGB for Comparison\n",
    "rgb_ds.odc.add_to(m, name=\"GeoMAD True Color\")\n",
    "\n",
    "# Mangrove Mask and Density\n",
    "data[\"mangroves\"].odc.add_to(m, cmap=\"viridis\", name=\"AMMI\")\n",
    "\n",
    "folium.LayerControl().add_to(m)\n",
    "\n",
    "m"
   ]
  },
  {
   "cell_type": "markdown",
   "metadata": {},
   "source": [
    "### Export"
   ]
  },
  {
   "cell_type": "code",
   "execution_count": null,
   "metadata": {},
   "outputs": [],
   "source": [
    "data[\"mangroves\"].odc.write_cog(f\"output_{year}.tif\", overwrite=True)"
   ]
  }
 ],
 "metadata": {
  "kernelspec": {
   "display_name": "Python 3 (ipykernel)",
   "language": "python",
   "name": "python3"
  },
  "language_info": {
   "codemirror_mode": {
    "name": "ipython",
    "version": 3
   },
   "file_extension": ".py",
   "mimetype": "text/x-python",
   "name": "python",
   "nbconvert_exporter": "python",
   "pygments_lexer": "ipython3",
   "version": "3.11.13"
  }
 },
 "nbformat": 4,
 "nbformat_minor": 4
}
